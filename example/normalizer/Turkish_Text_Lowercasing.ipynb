{
 "cells": [
  {
   "attachments": {},
   "cell_type": "markdown",
   "metadata": {},
   "source": [
    "## Use Case: Convert Text to Lowercase for Turkish Language\n",
    "\n",
    "**Description:**\n",
    "The use case involves utilizing the `lower_case` function from the `Normalizer` class in the `mintlemon` library. This function is specifically designed to convert a string of text to lowercase, accounting for the Turkish language's unique characters that are not handled properly by Python's built-in `lower()` method. The goal is to ensure accurate lowercase conversion for Turkish text, including appropriate handling of characters such as 'İ' and 'I'.\n",
    "\n",
    "**Example Scenario:**\n",
    "Let's consider a scenario where a user has a string of Turkish text that needs to be converted to lowercase. The user wants to ensure that the conversion properly handles the specific Turkish characters and maintains the integrity of the text. They decide to use the `lower_case` function provided by the `Normalizer` class to achieve this.\n",
    "\n",
    "**Step-by-Step Execution:**\n",
    "\n",
    "1. Import the `Normalizer` class from the `mintlemon` library.\n",
    "   ```python\n",
    "   from mintlemon import Normalizer\n",
    "    ```\n",
    "\n",
    "2. Instantiate an instance of the Normalizer class.\n",
    "\n",
    "   ```python\n",
    "   normalizer = Normalizer()\n",
    "   ```\n",
    "\n",
    "3. Prepare the input text that needs to be deasciified. This text should be a string or a list of strings.\n",
    "\n",
    "   ```python\n",
    "   input_text = \"Example: İIĞÜÖŞÇ\"\n",
    "   ```\n",
    "\n",
    "4. Call the deasciify method of the Normalizer instance, passing the input text as the argument.\n",
    "\n",
    "   ```python\n",
    "   result = normalizer.deasciify(input_text)\n",
    "   ```\n",
    "\n",
    "5. The deasciify method processes the input text and returns the deasciified version as a string.\n",
    "\n",
    "6. The resulting deasciified text is now stored in the result variable.\n",
    "\n",
    "   ```python\n",
    "   print(result)\n",
    "   ```\n",
    "7. **Output:** \n",
    "   > 'example: iığüöşç'\n",
    "\n",
    "----"
   ]
  },
  {
   "cell_type": "code",
   "execution_count": 3,
   "metadata": {},
   "outputs": [
    {
     "data": {
      "text/plain": [
       "'ex: iığüöşç'"
      ]
     },
     "execution_count": 3,
     "metadata": {},
     "output_type": "execute_result"
    }
   ],
   "source": [
    "from mintlemon import Normalizer\n",
    "\n",
    "Normalizer.lower_case(\"Ex: İIĞÜÖŞÇ\")"
   ]
  }
 ],
 "metadata": {
  "kernelspec": {
   "display_name": "venv",
   "language": "python",
   "name": "python3"
  },
  "language_info": {
   "codemirror_mode": {
    "name": "ipython",
    "version": 3
   },
   "file_extension": ".py",
   "mimetype": "text/x-python",
   "name": "python",
   "nbconvert_exporter": "python",
   "pygments_lexer": "ipython3",
   "version": "3.11.4"
  },
  "orig_nbformat": 4
 },
 "nbformat": 4,
 "nbformat_minor": 2
}
