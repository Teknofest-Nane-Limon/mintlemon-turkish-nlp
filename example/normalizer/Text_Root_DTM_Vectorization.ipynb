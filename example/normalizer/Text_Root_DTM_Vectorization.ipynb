{
 "cells": [
  {
   "attachments": {},
   "cell_type": "markdown",
   "metadata": {},
   "source": [
    "### Use Case: Transforming DataFrame Text into Document-Term Matrix with Word Roots\n",
    "\n",
    "**Description:**\n",
    "This use case demonstrates how to use the `TextRootDTMVectorizer` class from the `mintlemon` library to transform a DataFrame of text into a document-term matrix using word roots extracted by the Zeyrek morphological analyzer. The resulting matrix represents the frequency of word roots in the text data.\n",
    "\n",
    "**Example Scenario:**\n",
    "Let's consider a scenario where a user has a DataFrame containing text data and wants to transform it into a document-term matrix using word roots. The user wants to utilize the `TextRootDTMVectorizer` class provided by the `mintlemon` library.\n",
    "\n",
    "**Step-by-Step Execution:**\n",
    "1. Import the necessary libraries and classes.\n",
    "   ```python\n",
    "   from mintlemon import TextRootDTMVectorizer\n",
    "   import pandas as pd\n",
    "    ```\n",
    "\n",
    "2. Create a DataFrame with a column named 'text' containing the text data.\n",
    "\n",
    "    ```python \n",
    "    df = pd.DataFrame({'text': ['bu bir örnek metindir', 'başka bir örnek metin']})\n",
    "    ```\n",
    "3. Instantiate the `TextRootDTMVectorizer` class, passing the DataFrame and the column name as arguments.\n",
    "\n",
    "    ```python\n",
    "    vec = TextRootDTMVectorizer(df, 'text')\n",
    "    ```\n",
    "\n",
    "4. Call the `fit_transform` method of the `TextRootDTMVectorizer` instance to transform the text data into a document-term matrix.\n",
    "\n",
    "    ```python\n",
    "    dtm = vec.fit_transform()\n",
    "    ```\n",
    "\n",
    "5. The resulting document-term matrix is now stored in the `dtm` variable. **Output:** The output is a DataFrame representing the document-term matrix with word roots. Here is an example representation:\n",
    "\n",
    "\n",
    "\n",
    "-    başka  bir  bu  metin  örnek\n",
    "- 0      0    1   1      1     1\n",
    "- 1      1    1   0      1     1\n",
    "\n",
    "---"
   ]
  },
  {
   "cell_type": "code",
   "execution_count": 3,
   "metadata": {},
   "outputs": [
    {
     "data": {
      "text/html": [
       "<div>\n",
       "<style scoped>\n",
       "    .dataframe tbody tr th:only-of-type {\n",
       "        vertical-align: middle;\n",
       "    }\n",
       "\n",
       "    .dataframe tbody tr th {\n",
       "        vertical-align: top;\n",
       "    }\n",
       "\n",
       "    .dataframe thead th {\n",
       "        text-align: right;\n",
       "    }\n",
       "</style>\n",
       "<table border=\"1\" class=\"dataframe\">\n",
       "  <thead>\n",
       "    <tr style=\"text-align: right;\">\n",
       "      <th></th>\n",
       "      <th>text</th>\n",
       "    </tr>\n",
       "  </thead>\n",
       "  <tbody>\n",
       "    <tr>\n",
       "      <th>0</th>\n",
       "      <td>bu bir örnek metindir</td>\n",
       "    </tr>\n",
       "    <tr>\n",
       "      <th>1</th>\n",
       "      <td>bu ise başka bir örnek metin</td>\n",
       "    </tr>\n",
       "  </tbody>\n",
       "</table>\n",
       "</div>"
      ],
      "text/plain": [
       "                           text\n",
       "0         bu bir örnek metindir\n",
       "1  bu ise başka bir örnek metin"
      ]
     },
     "execution_count": 3,
     "metadata": {},
     "output_type": "execute_result"
    }
   ],
   "source": [
    "import pandas as pd\n",
    "from mintlemon import TextRootDTMVectorizer\n",
    "\n",
    "df = pd.DataFrame({'text': ['bu bir örnek metindir', 'bu ise başka bir örnek metin']})\n",
    "\n",
    "df"
   ]
  },
  {
   "cell_type": "code",
   "execution_count": 4,
   "metadata": {},
   "outputs": [
    {
     "name": "stderr",
     "output_type": "stream",
     "text": [
      "APPENDING RESULT: <(bu_Det)(-)(bu:detRoot_ST)>\n",
      "APPENDING RESULT: <(bu_Pron_Demons)(-)(bu:pronDemons_S + pA3sg_S + pPnon_S + pNom_ST)>\n",
      "APPENDING RESULT: <(bir_Adv)(-)(bir:advRoot_ST)>\n",
      "APPENDING RESULT: <(bir_Adj)(-)(bir:adjectiveRoot_ST)>\n",
      "APPENDING RESULT: <(bir_Det)(-)(bir:detRoot_ST)>\n",
      "APPENDING RESULT: <(bir_Num_Card)(-)(bir:numeralRoot_ST)>\n",
      "APPENDING RESULT: <(örnek_Adj)(-)(örnek:adjectiveRoot_ST)>\n",
      "APPENDING RESULT: <(Örnek_Noun_Prop)(-)(örnek:nounProper_S + a3sg_S + pnon_S + nom_ST)>\n",
      "APPENDING RESULT: <(örnek_Noun)(-)(örnek:noun_S + a3sg_S + pnon_S + nom_ST)>\n",
      "APPENDING RESULT: <(metîn_Adj)(-)(metin:adjectiveRoot_ST + adjZeroDeriv_S + nVerb_S + nPresent_S + nA3sg_S + dir:nCop_ST)>\n",
      "APPENDING RESULT: <(metîn_Noun)(-)(metin:noun_S + a3sg_S + pnon_S + nom_ST + nounZeroDeriv_S + nVerb_S + nPresent_S + nA3sg_S + dir:nCop_ST)>\n",
      "APPENDING RESULT: <(metin_Noun)(-)(metin:noun_S + a3sg_S + pnon_S + nom_ST + nounZeroDeriv_S + nVerb_S + nPresent_S + nA3sg_S + dir:nCop_ST)>\n",
      "APPENDING RESULT: <(bu_Det)(-)(bu:detRoot_ST)>\n",
      "APPENDING RESULT: <(bu_Pron_Demons)(-)(bu:pronDemons_S + pA3sg_S + pPnon_S + pNom_ST)>\n",
      "APPENDING RESULT: <(ise_Adv)(-)(ise:advRoot_ST)>\n",
      "APPENDING RESULT: <(imek_Verb)(-)(i:imekRoot_S + se:imekCond_S + imekA3sg_ST)>\n",
      "APPENDING RESULT: <(is_Noun)(-)(is:noun_S + a3sg_S + pnon_S + e:dat_ST)>\n",
      "APPENDING RESULT: <(başka_Postp_PCAbl)(-)(başka:postpRoot_ST)>\n",
      "APPENDING RESULT: <(başka_Adj)(-)(başka:adjectiveRoot_ST)>\n",
      "APPENDING RESULT: <(bir_Adv)(-)(bir:advRoot_ST)>\n",
      "APPENDING RESULT: <(bir_Adj)(-)(bir:adjectiveRoot_ST)>\n",
      "APPENDING RESULT: <(bir_Det)(-)(bir:detRoot_ST)>\n",
      "APPENDING RESULT: <(bir_Num_Card)(-)(bir:numeralRoot_ST)>\n",
      "APPENDING RESULT: <(örnek_Adj)(-)(örnek:adjectiveRoot_ST)>\n",
      "APPENDING RESULT: <(Örnek_Noun_Prop)(-)(örnek:nounProper_S + a3sg_S + pnon_S + nom_ST)>\n",
      "APPENDING RESULT: <(örnek_Noun)(-)(örnek:noun_S + a3sg_S + pnon_S + nom_ST)>\n",
      "APPENDING RESULT: <(metîn_Adj)(-)(metin:adjectiveRoot_ST)>\n",
      "APPENDING RESULT: <(metîn_Noun)(-)(metin:noun_S + a3sg_S + pnon_S + nom_ST)>\n",
      "APPENDING RESULT: <(metin_Noun)(-)(metin:noun_S + a3sg_S + pnon_S + nom_ST)>\n"
     ]
    },
    {
     "data": {
      "text/html": [
       "<div>\n",
       "<style scoped>\n",
       "    .dataframe tbody tr th:only-of-type {\n",
       "        vertical-align: middle;\n",
       "    }\n",
       "\n",
       "    .dataframe tbody tr th {\n",
       "        vertical-align: top;\n",
       "    }\n",
       "\n",
       "    .dataframe thead th {\n",
       "        text-align: right;\n",
       "    }\n",
       "</style>\n",
       "<table border=\"1\" class=\"dataframe\">\n",
       "  <thead>\n",
       "    <tr style=\"text-align: right;\">\n",
       "      <th></th>\n",
       "      <th>başka</th>\n",
       "      <th>bir</th>\n",
       "      <th>bu</th>\n",
       "      <th>ise</th>\n",
       "      <th>metîn</th>\n",
       "      <th>örnek</th>\n",
       "    </tr>\n",
       "  </thead>\n",
       "  <tbody>\n",
       "    <tr>\n",
       "      <th>0</th>\n",
       "      <td>0</td>\n",
       "      <td>1</td>\n",
       "      <td>1</td>\n",
       "      <td>0</td>\n",
       "      <td>1</td>\n",
       "      <td>1</td>\n",
       "    </tr>\n",
       "    <tr>\n",
       "      <th>1</th>\n",
       "      <td>1</td>\n",
       "      <td>1</td>\n",
       "      <td>1</td>\n",
       "      <td>1</td>\n",
       "      <td>1</td>\n",
       "      <td>1</td>\n",
       "    </tr>\n",
       "  </tbody>\n",
       "</table>\n",
       "</div>"
      ],
      "text/plain": [
       "   başka  bir  bu  ise  metîn  örnek\n",
       "0      0    1   1    0      1      1\n",
       "1      1    1   1    1      1      1"
      ]
     },
     "execution_count": 4,
     "metadata": {},
     "output_type": "execute_result"
    }
   ],
   "source": [
    "vc = TextRootDTMVectorizer(df, 'text')\n",
    "dtm = vc.fit_transform()\n",
    "\n",
    "dtm"
   ]
  }
 ],
 "metadata": {
  "kernelspec": {
   "display_name": "yenienv2",
   "language": "python",
   "name": "python3"
  },
  "language_info": {
   "codemirror_mode": {
    "name": "ipython",
    "version": 3
   },
   "file_extension": ".py",
   "mimetype": "text/x-python",
   "name": "python",
   "nbconvert_exporter": "python",
   "pygments_lexer": "ipython3",
   "version": "3.11.4"
  },
  "orig_nbformat": 4
 },
 "nbformat": 4,
 "nbformat_minor": 2
}
