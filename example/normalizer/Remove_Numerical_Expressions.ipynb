{
 "cells": [
  {
   "attachments": {},
   "cell_type": "markdown",
   "metadata": {},
   "source": [
    "### Use Case: Remove Numerical Expressions from Text\n",
    "\n",
    "**Description:**\n",
    "This use case demonstrates how to use the `remove_numbers` function to remove numerical expressions from a given text. The function utilizes regular expressions to match and remove numerical expressions, including integers, decimals, and signed integers/decimals, from the text.\n",
    "\n",
    "**Parameters:**\n",
    "\n",
    "* `text (str):` The text from which numerical expressions will be removed.\n",
    "* `remove_signed (bool, optional):` Whether to remove signed integers/decimals from the text. The default value is True.\n",
    "* `remove_decimal (bool, optional):`` Whether to remove decimal numbers from the text. The default value is True.\n",
    "\n",
    "**Example Scenario:**\n",
    "Let's say you are working on a document that contains various numerical expressions, such as integers, decimals, and signed integers/decimals. You want to eliminate these numerical expressions from the text and focus solely on the textual content. You can achieve this by using the `remove_numbers` function.\n",
    "\n",
    "**Step-by-Step Execution:**\n",
    "1. Import the `Normalizer` class from the `mintlemon` library.\n",
    "   ```python\n",
    "   from mintlemon import Normalizer\n",
    "   ````\n",
    "\n",
    "2. Create an instance of the `Normalizer` class.\n",
    "\n",
    "    ```python\n",
    "    normalize = Normalizer()\n",
    "    ```\n",
    "3. Define a text that contains numerical expressions.\n",
    "\n",
    "    ```python \n",
    "    text = \"Bu cümle 12.34 ve 2,5 ile başlıyor ve 56 ile bitiyor. 3 , -3 ve 2,5 +3,5 -3,4 ile ilgili bir şeyler söyleyebiliriz.\"\n",
    "    ```\n",
    "\n",
    "4. Call the `remove_numbers` method of the normalize instance, passing the text as an argument.\n",
    "\n",
    "    ```python\n",
    "    cleaned_text = normalize.remove_numbers(text)\n",
    "    ```\n",
    "5. The `remove_numbers` method removes all numerical expressions from the text and returns the cleaned text without any numerical expressions.\n",
    "\n",
    "6. The resulting cleaned text is now stored in the `cleaned_text` variable.\n",
    "\n",
    "7. **Output:** The output is the cleaned text without any numerical expressions. Here is an example representation.\n",
    "\n",
    "    > 'Bu cümle 12.34 ve 2,5 ile başlıyor ve 56 ile bitiyor. 3 , -3 ve 2,5 +3,5 -3,4 ile ilgili bir şeyler söyleyebiliriz.'\n",
    "\n",
    "In this use case, the `remove_numbers` function is used to remove numerical expressions from a given text. The function ensures that all numerical expressions, including integers, decimals, and signed integers/decimals, are removed from the text, resulting in a cleaned text without any numerical expressions.\n",
    "\n",
    "----"
   ]
  },
  {
   "cell_type": "code",
   "execution_count": 6,
   "metadata": {},
   "outputs": [
    {
     "data": {
      "text/plain": [
       "'Bu cümle ve ile başlıyor ve ile bitiyor. ve ile ilgili bir şeyler söyleyebiliriz.'"
      ]
     },
     "execution_count": 6,
     "metadata": {},
     "output_type": "execute_result"
    }
   ],
   "source": [
    "from mintlemon import Normalizer \n",
    "\n",
    "normalize = Normalizer()\n",
    "normalize.remove_numbers(\"Bu cümle 12.34 ve 2,5 ile başlıyor ve 56 ile bitiyor. 3 , -3 ve 2,5 +3,5 -3,4 ile ilgili bir şeyler söyleyebiliriz.\")"
   ]
  }
 ],
 "metadata": {
  "kernelspec": {
   "display_name": "venv",
   "language": "python",
   "name": "python3"
  },
  "language_info": {
   "codemirror_mode": {
    "name": "ipython",
    "version": 3
   },
   "file_extension": ".py",
   "mimetype": "text/x-python",
   "name": "python",
   "nbconvert_exporter": "python",
   "pygments_lexer": "ipython3",
   "version": "3.11.4"
  },
  "orig_nbformat": 4
 },
 "nbformat": 4,
 "nbformat_minor": 2
}
