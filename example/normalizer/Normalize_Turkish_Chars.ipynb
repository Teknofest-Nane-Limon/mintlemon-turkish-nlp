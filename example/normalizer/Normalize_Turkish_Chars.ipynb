{
 "cells": [
  {
   "attachments": {},
   "cell_type": "markdown",
   "metadata": {},
   "source": [
    "### Use Case: Normalize Turkish Characters\n",
    "\n",
    "**Description:**\n",
    "This use case demonstrates how to use the `normalize_chars` function to normalize characters in a given text according to specific languages. The function replaces specific characters with their ASCII equivalents, making the text more compatible for various applications and processes.\n",
    "\n",
    "\n",
    "**Example Scenario:**\n",
    "Let's consider a scenario where a user has a text that contains specific language characters such as Turkish or Azerbaijani and wants to normalize them. The user wants to utilize the `normalize_chars` function provided by the `Normalizer` class in the `mintlemon` library.\n",
    "\n",
    "**Step-by-Step Execution:**\n",
    "1. Import the `Normalizer` class from the `mintlemon` library.\n",
    "   ```python\n",
    "   from mintlemon import Normalizer\n",
    "   ```\n",
    "\n",
    "2. Create an instance of the `Normalizer` class and call the `normalize_chars` method, passing the text and the specific language's translation table as arguments.\n",
    "\n",
    "    ```python\n",
    "    # Turkish language example: \n",
    "    turkish_text = \"Türkiye'de 85 milyon insan vardır.\"\n",
    "    normalized_turkish_text = Normalizer().normalize_chars(turkish_text)\n",
    "    ```\n",
    "\n",
    "4. **Output:**\n",
    "    > 'Turkiyede 85 milyon insan vardir.'\n",
    "\n",
    "5. Azerbaijani Example(others):\n",
    "    ```python\n",
    "    azerbaijani_table = str.maketrans(\"ƏəĞğÇçŞşÜüÖöİı\", \"AaGgCcSsUuOoIi\")\n",
    "    azerbaijani_text = \"Mən Ağcabədi şəhərində yaşayıram.\"\n",
    "    normalized_azerbaijani_text = Normalizer().normalize_chars(azerbaijani_text, azerbaijani_table)\n",
    "    ```\n",
    "\n",
    "6. **Output:**\n",
    "    > 'Men Agcabedi seherinde yasayiram.'\n",
    "\n",
    "The `normalize_chars` method processes the input text and returns the normalized version with specific characters replaced by their ASCII equivalents. The resulting normalized text is now stored in the `normalized_{language}_text` variable.\n",
    "\n",
    "---"
   ]
  },
  {
   "cell_type": "code",
   "execution_count": 2,
   "metadata": {},
   "outputs": [
    {
     "data": {
      "text/plain": [
       "\"Turkiye'de 85 milyon insan vardir.\""
      ]
     },
     "execution_count": 2,
     "metadata": {},
     "output_type": "execute_result"
    }
   ],
   "source": [
    "from mintlemon import Normalizer\n",
    "Normalizer().normalize_chars(\"Türkiye'de 85 milyon insan vardır.\")"
   ]
  },
  {
   "cell_type": "code",
   "execution_count": 5,
   "metadata": {},
   "outputs": [
    {
     "data": {
      "text/plain": [
       "\"Gazi Universitesi'ne Hosgeldiniz.\""
      ]
     },
     "execution_count": 5,
     "metadata": {},
     "output_type": "execute_result"
    }
   ],
   "source": [
    "Normalizer().normalize_chars(\"Gazi Üniversitesi'ne Hoşgeldiniz.\")"
   ]
  },
  {
   "cell_type": "code",
   "execution_count": 7,
   "metadata": {},
   "outputs": [
    {
     "data": {
      "text/plain": [
       "'Man Agcabadi saharinda yasayiram.'"
      ]
     },
     "execution_count": 7,
     "metadata": {},
     "output_type": "execute_result"
    }
   ],
   "source": [
    "azerbaijani_table = str.maketrans(\"ƏəĞğÇçŞşÜüÖöİı\", \"AaGgCcSsUuOoIi\")\n",
    "Normalizer.normalize_chars(\"Mən Ağcabədi şəhərində yaşayıram.\", azerbaijani_table)"
   ]
  },
  {
   "cell_type": "markdown",
   "metadata": {},
   "source": []
  }
 ],
 "metadata": {
  "kernelspec": {
   "display_name": "venv",
   "language": "python",
   "name": "python3"
  },
  "language_info": {
   "codemirror_mode": {
    "name": "ipython",
    "version": 3
   },
   "file_extension": ".py",
   "mimetype": "text/x-python",
   "name": "python",
   "nbconvert_exporter": "python",
   "pygments_lexer": "ipython3",
   "version": "3.11.4"
  },
  "orig_nbformat": 4
 },
 "nbformat": 4,
 "nbformat_minor": 2
}
