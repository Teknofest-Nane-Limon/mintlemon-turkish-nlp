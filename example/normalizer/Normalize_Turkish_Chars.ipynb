{
 "cells": [
  {
   "attachments": {},
   "cell_type": "markdown",
   "metadata": {},
   "source": [
    "### Use Case: Normalize Turkish Characters\n",
    "\n",
    "**Description:**\n",
    "This use case demonstrates how to use the `normalize_turkish_chars` function to normalize Turkish characters in a given text. The function replaces Turkish characters with their ASCII equivalents, making the text more compatible for various applications and processes.\n",
    "\n",
    "**Example Scenario:**\n",
    "Let's consider a scenario where a user has a text that contains Turkish characters and wants to normalize them. The user wants to utilize the `normalize_turkish_chars` function provided by the `Normalizer` class in the `mintlemon` library.\n",
    "\n",
    "**Step-by-Step Execution:**\n",
    "1. Import the `Normalizer` class from the `mintlemon` library.\n",
    "   ```python\n",
    "   from mintlemon import Normalizer\n",
    "   ```\n",
    "\n",
    "2. Create an instance of the `Normalizer` class and call the `normalize_turkish_chars` method, passing the text as an argument.\n",
    "\n",
    "    ```python\n",
    "    normalized_text = Normalizer().normalize_turkish_chars(\"Türkiye'de 85 milyon insan vardır.\")\n",
    "    ```\n",
    "3. The `normalize_turkish_chars` method processes the input text and returns the normalized version with Turkish characters replaced by their ASCII equivalents.\n",
    "\n",
    "4. The resulting normalized text is now stored in the `normalized_text` variable. **Output:**\n",
    "\n",
    "    > 'Turkiyede 85 milyon insan vardir.'\n",
    "\n",
    "\n",
    "---"
   ]
  },
  {
   "cell_type": "code",
   "execution_count": 1,
   "metadata": {},
   "outputs": [
    {
     "data": {
      "text/plain": [
       "\"Turkiye'de 85 milyon insan vardir.\""
      ]
     },
     "execution_count": 1,
     "metadata": {},
     "output_type": "execute_result"
    }
   ],
   "source": [
    "from mintlemon import Normalizer\n",
    "Normalizer().normalize_turkish_chars(\"Türkiye'de 85 milyon insan vardır.\")"
   ]
  },
  {
   "cell_type": "code",
   "execution_count": 2,
   "metadata": {},
   "outputs": [
    {
     "data": {
      "text/plain": [
       "'Gazi Universitesine Hosgeldiniz.'"
      ]
     },
     "execution_count": 2,
     "metadata": {},
     "output_type": "execute_result"
    }
   ],
   "source": [
    "Normalizer().normalize_turkish_chars(\"Gazi Üniversitesine Hoşgeldiniz.\")"
   ]
  },
  {
   "cell_type": "markdown",
   "metadata": {},
   "source": []
  }
 ],
 "metadata": {
  "kernelspec": {
   "display_name": "venv",
   "language": "python",
   "name": "python3"
  },
  "language_info": {
   "codemirror_mode": {
    "name": "ipython",
    "version": 3
   },
   "file_extension": ".py",
   "mimetype": "text/x-python",
   "name": "python",
   "nbconvert_exporter": "python",
   "pygments_lexer": "ipython3",
   "version": "3.11.4"
  },
  "orig_nbformat": 4
 },
 "nbformat": 4,
 "nbformat_minor": 2
}
