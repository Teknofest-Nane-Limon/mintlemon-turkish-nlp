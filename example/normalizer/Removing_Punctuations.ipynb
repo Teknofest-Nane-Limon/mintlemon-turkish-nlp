{
 "cells": [
  {
   "attachments": {},
   "cell_type": "markdown",
   "metadata": {},
   "source": [
    "## Use Case: Removing Punctuations\n",
    "\n",
    "**Description:**\n",
    "This use case demonstrates how the `remove_punctuations` function can be used to remove all punctuation characters from a given text. The function utilizes Python's built-in `string.punctuation` to define a set of punctuation characters and uses the `re.sub()` method to replace them with an empty string. The result is a string stripped of punctuations.\n",
    "\n",
    "**Example Scenario:**\n",
    "Let's consider a scenario where a user has a string containing punctuation marks and wants to remove them. The user wants to utilize the `remove_punctuations` function from the `Normalizer` class provided by the `mintlemon` library.\n",
    "\n",
    "**Step-by-Step Execution:**\n",
    "1. Import the `Normalizer` class from the `mintlemon` library.\n",
    "   ```python\n",
    "   from mintlemon import Normalizer\n",
    "   ```\n",
    "\n",
    "2. Prepare a string that contains punctuation marks.\n",
    "    ```python\n",
    "    text = \"#Merhaba, Dünya! Bu bir örnek metin.\"\n",
    "    ```\n",
    "3. Call the `remove_punctuations` method of the `Normalizer` class, passing the text as the argument.\n",
    "    ```python \n",
    "    text_without_punctuations = Normalizer.remove_punctuations(text)\n",
    "    ```\n",
    "4. The `remove_punctuations` method removes all the punctuation characters from the text and returns the modified string.\n",
    "\n",
    "5. The resulting text without punctuations is now stored in the `text_without_punctuations` variable.\n",
    "\n",
    "    ```python \n",
    "    print(text_without_punctuations.split())\n",
    "    ```\n",
    "\n",
    "6. **Output:**\n",
    "\n",
    "    > ['Merhaba', 'Dünya', 'Bu', 'bir', 'örnek', 'metin']\n",
    "\n",
    "---\n"
   ]
  },
  {
   "cell_type": "code",
   "execution_count": 2,
   "metadata": {},
   "outputs": [
    {
     "data": {
      "text/plain": [
       "['Merhaba', 'Dünya', 'Bu', 'bir', 'örnek', 'metin']"
      ]
     },
     "execution_count": 2,
     "metadata": {},
     "output_type": "execute_result"
    }
   ],
   "source": [
    "from mintlemon import Normalizer \n",
    "\n",
    "Normalizer.remove_punctuations(\"#Merhaba, Dünya! Bu bir örnek metin.\").split()"
   ]
  }
 ],
 "metadata": {
  "kernelspec": {
   "display_name": "venv",
   "language": "python",
   "name": "python3"
  },
  "language_info": {
   "codemirror_mode": {
    "name": "ipython",
    "version": 3
   },
   "file_extension": ".py",
   "mimetype": "text/x-python",
   "name": "python",
   "nbconvert_exporter": "python",
   "pygments_lexer": "ipython3",
   "version": "3.11.4"
  },
  "orig_nbformat": 4
 },
 "nbformat": 4,
 "nbformat_minor": 2
}
