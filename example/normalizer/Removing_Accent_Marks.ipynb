{
 "cells": [
  {
   "attachments": {},
   "cell_type": "markdown",
   "metadata": {},
   "source": [
    "## Use Case: Removing Accent Marks\n",
    "\n",
    "**Description:**\n",
    "This use case demonstrates how the `remove_accent_marks` function can be used to remove accent marks from a given string. The function utilizes a dictionary to define the set of accent marks and their corresponding letters without accent marks, and uses the `replace()` method to replace them. The result is a string stripped of accent marks.\n",
    "\n",
    "**Example Scenario:**\n",
    "Let's consider a scenario where a user has a string containing accent marks and wants to remove them. The user wants to utilize the `remove_accent_marks` function from the `Normalizer` class provided by the `mintlemon` library.\n",
    "\n",
    "**Step-by-Step Execution:**\n",
    "1. Import the `Normalizer` class from the `mintlemon` library.\n",
    "   ```python\n",
    "   from mintlemon import Normalizer\n",
    "    ```\n",
    "\n",
    "2. Prepare a string that contains accent marks.\n",
    "\n",
    "    ```python\n",
    "    text = \"merhâbâ îyi günler\"\n",
    "    ```\n",
    "\n",
    "3. Call the `remove_accent_marks` method of the `Normalizer` class, passing the text as the argument.\n",
    "\n",
    "    ```python\n",
    "    text_without_accents = Normalizer.remove_accent_marks(text)\n",
    "    ```\n",
    "\n",
    "4. The `remove_accent_marks` method removes the accent marks from the text using a dictionary of mappings and returns the modified string.\n",
    "\n",
    "5. The resulting text without accent marks is now stored in the `text_without_accents` variable.\n",
    "\n",
    "    ```python\n",
    "    print(text_without_accents.split())\n",
    "    ```\n",
    "\n",
    "6. **Output:**\n",
    "    > ['merhaba', 'iyi', 'gunler']\n",
    "\n",
    "---"
   ]
  },
  {
   "cell_type": "code",
   "execution_count": 1,
   "metadata": {},
   "outputs": [
    {
     "data": {
      "text/plain": [
       "['merhaba', 'iyi', 'günler']"
      ]
     },
     "execution_count": 1,
     "metadata": {},
     "output_type": "execute_result"
    }
   ],
   "source": [
    "from mintlemon import Normalizer\n",
    "\n",
    "Normalizer.remove_accent_marks(\"merhâbâ îyi günler\").split()"
   ]
  }
 ],
 "metadata": {
  "kernelspec": {
   "display_name": "venv",
   "language": "python",
   "name": "python3"
  },
  "language_info": {
   "codemirror_mode": {
    "name": "ipython",
    "version": 3
   },
   "file_extension": ".py",
   "mimetype": "text/x-python",
   "name": "python",
   "nbconvert_exporter": "python",
   "pygments_lexer": "ipython3",
   "version": "3.11.4"
  },
  "orig_nbformat": 4
 },
 "nbformat": 4,
 "nbformat_minor": 2
}
