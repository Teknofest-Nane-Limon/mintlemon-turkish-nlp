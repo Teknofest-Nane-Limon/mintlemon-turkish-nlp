{
 "cells": [
  {
   "attachments": {},
   "cell_type": "markdown",
   "metadata": {},
   "source": [
    "## Use Case: Removing Accent Marks\n",
    "\n",
    "**Description:**\n",
    "This use case demonstrates how the `remove_accent_marks` function can be used to remove accent marks from a given string. The function allows the user to provide a custom mapping of accent marks to unaccented characters. If no custom mapping is provided, the function defaults to a standard mapping for Turkish language.\n",
    "\n",
    "\n",
    "**Example Scenario:**\n",
    "Let's consider a scenario where a user has a string containing accent marks and wants to remove them. The user wants to utilize the `remove_accent_marks` function from the `Normalizer` class provided by the `mintlemon` library.\n",
    "\n",
    "\n",
    "**Step-by-Step Execution:**\n",
    "1. Import the `Normalizer` class from the `mintlemon` library.\n",
    "   ```python\n",
    "   from mintlemon import Normalizer\n",
    "    ```\n",
    "\n",
    "2. Prepare a string that contains accent marks and a custom mapping dictionary for accent marks.\n",
    "\n",
    "    ```python\n",
    "    text = \"merhâbâ îyi günler\"\n",
    "    accent_mapping = {\"â\": \"a\", \"î\": \"i\"}\n",
    "    ```\n",
    "\n",
    "3. Call the `remove_accent_marks` method of the Normalizer class, passing the text and the custom mapping as the arguments.\n",
    "\n",
    "\n",
    "    ```python\n",
    "    text_without_accents = Normalizer.remove_accent_marks(text, accent_mapping)\n",
    "    ```\n",
    "\n",
    "4. The `remove_accent_marks` method removes the accent marks from the text using the provided mapping and returns the modified string.\n",
    "\n",
    "\n",
    "5. The resulting text without accent marks is now stored in the `text_without_accents` variable.\n",
    "\n",
    "\n",
    "    ```python\n",
    "    print(text_without_accents.split())\n",
    "    ```\n",
    "\n",
    "6. **Output:**\n",
    "    > ['merhaba', 'iyi', 'gunler']\n",
    "\n",
    "7. For different languages, simply prepare a different custom accent mapping. For example, for Azeri language:\n",
    "\n",
    "    ```python\n",
    "    text_az = \"Mən Ağcabədi şəhərində yaşayıram.\"\n",
    "    accent_mapping_az = {\"ə\": \"e\", \"ğ\": \"g\", \"ı\": \"i\", \"ö\": \"o\", \"ş\": \"s\", \"ü\": \"u\", \"ç\": \"c\"}\n",
    "    text_without_accents_az = Normalizer.remove_accent_marks(text_az, accent_mapping_az)\n",
    "    print(text_without_accents_az)\n",
    "    ```\n",
    "8. **Output:**\n",
    "    > 'Men Agcabedi seherinde yasayiram.'\n",
    "\n",
    "The `remove_accent_marks` function is designed with flexibility and customizability in mind. The function allows you to pass in a custom mapping of accent marks to unaccented characters. This means you can tailor the function to your specific needs, regardless of the language you are working with. Simply prepare a mapping that corresponds to the specific accent marks in your language, and pass it as an argument to the function. This makes `remove_accent_marks` a versatile tool in your text normalization toolbox.\n",
    "\n",
    "---"
   ]
  },
  {
   "cell_type": "code",
   "execution_count": 2,
   "metadata": {},
   "outputs": [
    {
     "data": {
      "text/plain": [
       "['merhaba', 'iyi', 'günler']"
      ]
     },
     "execution_count": 2,
     "metadata": {},
     "output_type": "execute_result"
    }
   ],
   "source": [
    "from mintlemon import Normalizer\n",
    "\n",
    "Normalizer.remove_accent_marks(\"merhâbâ îyi günler\").split()"
   ]
  },
  {
   "cell_type": "code",
   "execution_count": 3,
   "metadata": {},
   "outputs": [
    {
     "name": "stdout",
     "output_type": "stream",
     "text": [
      "Men Agcabedi seherinde yasayiram.\n"
     ]
    }
   ],
   "source": [
    "# for different languages, simply prepare a different custom accent mapping. For example, for Azeri language:\n",
    "text_az = \"Mən Ağcabədi şəhərində yaşayıram.\"\n",
    "accent_mapping_az = {\"ə\": \"e\", \"ğ\": \"g\", \"ı\": \"i\", \"ö\": \"o\", \"ş\": \"s\", \"ü\": \"u\", \"ç\": \"c\"}\n",
    "text_without_accents_az = Normalizer.remove_accent_marks(text_az, accent_mapping_az)\n",
    "\n",
    "print(text_without_accents_az)"
   ]
  }
 ],
 "metadata": {
  "kernelspec": {
   "display_name": "venv",
   "language": "python",
   "name": "python3"
  },
  "language_info": {
   "codemirror_mode": {
    "name": "ipython",
    "version": 3
   },
   "file_extension": ".py",
   "mimetype": "text/x-python",
   "name": "python",
   "nbconvert_exporter": "python",
   "pygments_lexer": "ipython3",
   "version": "3.11.4"
  },
  "orig_nbformat": 4
 },
 "nbformat": 4,
 "nbformat_minor": 2
}
