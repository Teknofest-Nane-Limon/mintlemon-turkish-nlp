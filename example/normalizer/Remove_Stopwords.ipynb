{
 "cells": [
  {
   "attachments": {},
   "cell_type": "markdown",
   "metadata": {},
   "source": [
    "### Use Case: Remove Stopwords from Text\n",
    "\n",
    "**Description:**\n",
    "This use case demonstrates how to use the `remove_stopwords` function to remove stopwords from a given text. The function allows the user to provide a custom set or list of stopwords or uses the default stopwords loaded from a file. It effectively removes the specified stopwords from the text.\n",
    "\n",
    "**Example Scenario:**\n",
    "Let's consider a scenario where a user wants to remove stopwords from a given text using the `remove_stopwords` function provided by the `Normalizer` class in the `mintlemon` library.\n",
    "\n",
    "**Step-by-Step Execution:**\n",
    "1. Import the `Normalizer` class from the `mintlemon` library.\n",
    "   ```python\n",
    "   from mintlemon import Normalizer\n",
    "    ```\n",
    "\n",
    "2. Create an instance of the `Normalizer` class.\n",
    "    ```python\n",
    "    normalizer = Normalizer()\n",
    "    ```\n",
    "\n",
    "3. Define a text from which stopwords need to be removed.\n",
    "\n",
    "    ```python\n",
    "    text = \"Bu cümledeki bazı gereksiz kelimeleri çıkarmak istiyorum.\"\n",
    "    ```\n",
    "\n",
    "4. Call the `remove_stopwords` method of the normalizer instance, passing the text as an argument.\n",
    "\n",
    "    ```python\n",
    "    cleaned_text = normalizer.remove_stopwords(text)\n",
    "    ```\n",
    "\n",
    "5. The `remove_stopwords` method removes the stopwords from the text and returns the cleaned text without the stopwords. \n",
    "\n",
    "6. The resulting cleaned text is now stored in the `cleaned_text` variable. **Output:** The output is the cleaned text without any stopwords. Here is an example representation.\n",
    "\n",
    "    ```python\n",
    "    'cümledeki gereksiz kelimeleri çıkarmak istiyorum.'\n",
    "    ```\n",
    "\n",
    "In this use case, the remove_stopwords function is used to remove stopwords from a given text. The function allows customization by accepting a custom set or list of stopwords or using the default stopwords loaded from a file. The resulting cleaned text will not contain any of the specified stopwords.\n",
    "\n",
    "---"
   ]
  },
  {
   "cell_type": "code",
   "execution_count": 5,
   "metadata": {},
   "outputs": [
    {
     "data": {
      "text/plain": [
       "'cümledeki gereksiz kelimeleri çıkarmak istiyorum.'"
      ]
     },
     "execution_count": 5,
     "metadata": {},
     "output_type": "execute_result"
    }
   ],
   "source": [
    "from mintlemon import Normalizer\n",
    "# Example usage with class method (classmethod):\n",
    "\n",
    "# This example usage is used to load the stopwords.txt file using the load_stopwords method.\n",
    "Normalizer.load_stopwords(\"stop_words.txt\") # replace with your own file path\n",
    "\n",
    "# Then, we can remove unnecessary words in the given text.\n",
    "text = \"Bu cümledeki bazı gereksiz kelimeleri çıkarmak istiyorum.\"\n",
    "cleaned_text = Normalizer.remove_stopwords(text)\n",
    "cleaned_text"
   ]
  },
  {
   "cell_type": "code",
   "execution_count": 6,
   "metadata": {},
   "outputs": [
    {
     "data": {
      "text/plain": [
       "'cümledeki gereksiz -> <- kelimeleri çıkarmak istiyorum.'"
      ]
     },
     "execution_count": 6,
     "metadata": {},
     "output_type": "execute_result"
    }
   ],
   "source": [
    "from mintlemon import Normalizer\n",
    "\n",
    "# Example usage with modifying class state:\n",
    "\n",
    "# Load stop words\n",
    "Normalizer.STOP_WORDS = {\"bu\", \"ve\", \"bir\"}\n",
    "\n",
    "text = \"Bu cümledeki bazı gereksiz -> ve bu bir <- kelimeleri çıkarmak istiyorum.\"\n",
    "cleaned_text = Normalizer.remove_stopwords(text=text)\n",
    "cleaned_text"
   ]
  },
  {
   "cell_type": "code",
   "execution_count": 3,
   "metadata": {},
   "outputs": [
    {
     "data": {
      "text/plain": [
       "'cümledeki gereksiz -> <- kelimeleri çıkarmak istiyorum.'"
      ]
     },
     "execution_count": 3,
     "metadata": {},
     "output_type": "execute_result"
    }
   ],
   "source": [
    "from mintlemon import Normalizer\n",
    "\n",
    "# Stop words yükleme\n",
    "Normalizer.STOP_WORDS = {\"bu\", \"ve\", \"bir\"}\n",
    "\n",
    "text = \"Bu cümledeki bazı gereksiz -> ve bu bir <- kelimeleri çıkarmak istiyorum.\"\n",
    "cleaned_text = Normalizer.remove_stopwords(text=text)\n",
    "cleaned_text"
   ]
  },
  {
   "cell_type": "code",
   "execution_count": 4,
   "metadata": {},
   "outputs": [
    {
     "data": {
      "text/plain": [
       "'cümledeki bazı gereksiz kelimeleri çıkarmak istiyorum.'"
      ]
     },
     "execution_count": 4,
     "metadata": {},
     "output_type": "execute_result"
    }
   ],
   "source": [
    "from mintlemon import Normalizer\n",
    "\n",
    "# Example usage with passing stop words as a list:\n",
    "\n",
    "stopwords = [\"bu\"]\n",
    "text = \"Bu cümledeki bazı gereksiz kelimeleri çıkarmak istiyorum.\"\n",
    "\n",
    "cleaned_text = Normalizer.remove_stopwords(text, stopwords)\n",
    "cleaned_text"
   ]
  },
  {
   "cell_type": "code",
   "execution_count": 8,
   "metadata": {},
   "outputs": [
    {
     "data": {
      "text/plain": [
       "'cümledeki gereksiz kelimeleri çıkarmak istiyorum.'"
      ]
     },
     "execution_count": 8,
     "metadata": {},
     "output_type": "execute_result"
    }
   ],
   "source": [
    "from mintlemon import Normalizer\n",
    "\n",
    "# Example usage with static method (staticmethod):\n",
    "text = \"Bu cümledeki bazı gereksiz kelimeleri çıkarmak istiyorum.\"\n",
    "normalizer = Normalizer()\n",
    "cleaned_text = normalizer.remove_stopwords(text)\n",
    "\n",
    "cleaned_text"
   ]
  }
 ],
 "metadata": {
  "kernelspec": {
   "display_name": "venv",
   "language": "python",
   "name": "python3"
  },
  "language_info": {
   "codemirror_mode": {
    "name": "ipython",
    "version": 3
   },
   "file_extension": ".py",
   "mimetype": "text/x-python",
   "name": "python",
   "nbconvert_exporter": "python",
   "pygments_lexer": "ipython3",
   "version": "3.11.4"
  },
  "orig_nbformat": 4
 },
 "nbformat": 4,
 "nbformat_minor": 2
}
