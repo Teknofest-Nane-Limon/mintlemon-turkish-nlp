{
 "cells": [
  {
   "attachments": {},
   "cell_type": "markdown",
   "metadata": {},
   "source": [
    "### Use Case: Turkish Text Deasciification\n",
    "\n",
    "**Description:**\n",
    "The use case involves utilizing the `deasciify` function from the `Normalizer` class in the `mintlemon` library. This function is designed to deasciify Turkish text, converting ASCII characters to their corresponding Turkish counterparts. The goal is to enhance the readability and accuracy of the text by replacing the ASCII representations with their appropriate Turkish characters.\n",
    "\n",
    "**Example Scenario:**\n",
    "Let's consider a scenario where a user has a piece of Turkish text that contains ASCII characters instead of their corresponding Turkish characters. The user wants to convert this text to its proper Turkish representation for improved readability. They decide to use the `deasciify` function provided by the `Normalizer` class to achieve this.\n",
    "\n",
    "**Step-by-Step Execution:**\n",
    "1. Import the `Normalizer` class from the `mintlemon` library.\n",
    "   ```python\n",
    "   from mintlemon import Normalizer\n",
    "    ```\n",
    "\n",
    "2. Create an instance of the `Normalizer` class and call the `deasciify` method, passing the text as an argument.\n",
    "\n",
    "    ```python\n",
    "    deasciified_text = Normalizer().deasciify(\"O sirada bahcede cıcekleri kokluyorduk. Hersey bahcıvanın islik calmasiyla yasandi...\")\n",
    "    ```\n",
    "\n",
    "3. The `deasciify` method processes the input text and returns the deasciified version as a string.\n",
    "\n",
    "4. The resulting deasciified text is now stored in the `deasciified_text` variable. **Output:**\n",
    "    ```python \n",
    "    > 'O sırada bahçede çiçekleri kokluyorduk. Herşey bahçıvanın ıslık çalmasıyla yaşandı...'\n",
    "    ```\n",
    "\n",
    "---"
   ]
  },
  {
   "cell_type": "code",
   "execution_count": 1,
   "metadata": {},
   "outputs": [
    {
     "data": {
      "text/plain": [
       "'O sırada bahçede çiçekleri kokluyorduk. Herşey bahçıvanın ıslık çalmasıyla yaşandı...'"
      ]
     },
     "execution_count": 1,
     "metadata": {},
     "output_type": "execute_result"
    }
   ],
   "source": [
    "from mintlemon import Normalizer\n",
    "\n",
    "Normalizer().deasciify(\"O sirada bahcede cıcekleri kokluyorduk. Hersey bahcıvanın islik calmasiyla yasandi...\")"
   ]
  },
  {
   "cell_type": "markdown",
   "metadata": {},
   "source": []
  }
 ],
 "metadata": {
  "kernelspec": {
   "display_name": "venv",
   "language": "python",
   "name": "python3"
  },
  "language_info": {
   "codemirror_mode": {
    "name": "ipython",
    "version": 3
   },
   "file_extension": ".py",
   "mimetype": "text/x-python",
   "name": "python",
   "nbconvert_exporter": "python",
   "pygments_lexer": "ipython3",
   "version": "3.11.4"
  },
  "orig_nbformat": 4
 },
 "nbformat": 4,
 "nbformat_minor": 2
}
