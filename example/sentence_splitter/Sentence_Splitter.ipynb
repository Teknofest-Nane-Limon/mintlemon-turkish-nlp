{
 "cells": [
  {
   "attachments": {},
   "cell_type": "markdown",
   "metadata": {
    "pycharm": {
     "name": "#%% md\n"
    }
   },
   "source": [
    "### Use Case: Sentence Splitting with SentenceSplitter \n",
    "\n",
    "**Description:**\n",
    "This use case demonstrates how to use the `SentenceSplitter` class from the `mintlemon` library to split text into sentences. The code provides an example of importing the class, creating an instance of the class, and using the `split_sentences` method to split a sample text into individual sentences.\n",
    "\n",
    "**Example Scenario:**\n",
    "Let's consider a scenario where a user wants to split a piece of text into sentences using the `SentenceSplitter` class from the `mintlemon` library.\n",
    "\n",
    "**Step-by-Step Execution:**\n",
    "1. Import the `SentenceSplitter` class from the `mintlemon` library.\n",
    "   ```python\n",
    "   from mintlemon import SentenceSplitter\n",
    "   ```\n",
    "\n",
    "2. Create an instance of the `SentenceSplitter` class.\n",
    "\n",
    "    ```python\n",
    "    splitter = SentenceSplitter()\n",
    "    ```\n",
    "\n",
    "3. Define a sample text that needs to be split into sentences.\n",
    "\n",
    "    ```python\n",
    "    text = \"Dr Tarık Kaan Koç, Türkiye genelinde birçok hastanede çalışmıştır. Bu hastaneler arasında Ankara Üniversitesi Tıp Fakültesi ve İstanbul Üniversitesi Tıp Fakültesi de vardır. Dr Tarık Kaan Koç, özellikle kalp ve damar cerrahisi alanında uzmanlaşmıştır ve uluslararası çok sayıda makale yazmıştır. Ayrıca Dr Koç, Türk Kardiyoloji Derneği üyesidir ve derneğin yönetim kurulu başkanıdır.\"\n",
    "    ```\n",
    "\n",
    "4. Call the `split_sentences` method on the `splitter` instance, passing the `text` variable as an argument.\n",
    "    ```python\n",
    "    sentences = splitter.split_sentences(text)\n",
    "    ```\n",
    "\n",
    "5. The `split_sentences` method splits the text into individual sentences and returns them as a list of sentences.\n",
    "\n",
    "6. The resulting list of sentences is stored in the sentences variable. \n",
    "\n",
    "7. **Output:** The output is a list of individual sentences extracted from the input text. Here is an example representation\n",
    "\n",
    "    > ['Dr Tarık Kaan Koç, Türkiye genelinde birçok hastanede çalışmıştır.', \n",
    "    'Bu hastaneler arasında Ankara Üniversitesi Tıp Fakültesi ve İstanbul Üniversitesi Tıp Fakültesi de vardır.', \n",
    "    'Dr Tarık Kaan Koç, özellikle kalp ve damar cerrahisi alanında uzmanlaşmıştır ve uluslararası çok sayıda makale yazmıştır.', \n",
    "    'Ayrıca Dr Koç, Türk Kardiyoloji Derneği üyesidir ve derneğin yönetim kurulu başkanıdır.']\n",
    "\n",
    "\n",
    "In this use case, the `SentenceSplitter` class is used to split a given text into individual sentences. The function provides an efficient way to extract sentences from text data for further analysis or processing.\n",
    "\n",
    "---"
   ]
  },
  {
   "cell_type": "code",
   "execution_count": 1,
   "metadata": {
    "pycharm": {
     "name": "#%%\n"
    }
   },
   "outputs": [
    {
     "data": {
      "text/plain": [
       "['Dr Tarık Kaan Koç, Türkiye genelinde birçok hastanede çalışmıştır.',\n",
       " 'Bu hastaneler arasında Ankara Üniversitesi Tıp Fakültesi ve İstanbul Üniversitesi Tıp Fakültesi de vardır.',\n",
       " 'Dr Tarık Kaan Koç, özellikle kalp ve damar cerrahisi alanında uzmanlaşmıştır ve uluslararası çok sayıda makale yazmıştır.',\n",
       " 'Ayrıca Dr Koç, Türk Kardiyoloji Derneği üyesidir ve derneğin yönetim kurulu başkanıdır.']"
      ]
     },
     "execution_count": 1,
     "metadata": {},
     "output_type": "execute_result"
    }
   ],
   "source": [
    "from mintlemon import SentenceSplitter\n",
    "\n",
    "splitter = SentenceSplitter()\n",
    "\n",
    "text = \"Dr Tarık Kaan Koç, Türkiye genelinde birçok hastanede çalışmıştır. Bu hastaneler arasında Ankara Üniversitesi Tıp Fakültesi ve İstanbul Üniversitesi Tıp Fakültesi de vardır. Dr Tarık Kaan Koç, özellikle kalp ve damar cerrahisi alanında uzmanlaşmıştır ve uluslararası çok sayıda makale yazmıştır. Ayrıca Dr Koç, Türk Kardiyoloji Derneği üyesidir ve derneğin yönetim kurulu başkanıdır.\"\n",
    "\n",
    "sentences = splitter.split_sentences(text)\n",
    "\n",
    "sentences"
   ]
  }
 ],
 "metadata": {
  "kernelspec": {
   "display_name": "base",
   "language": "python",
   "name": "python3"
  },
  "language_info": {
   "codemirror_mode": {
    "name": "ipython",
    "version": 3
   },
   "file_extension": ".py",
   "mimetype": "text/x-python",
   "name": "python",
   "nbconvert_exporter": "python",
   "pygments_lexer": "ipython3",
   "version": "3.11.4"
  },
  "orig_nbformat": 4
 },
 "nbformat": 4,
 "nbformat_minor": 2
}
